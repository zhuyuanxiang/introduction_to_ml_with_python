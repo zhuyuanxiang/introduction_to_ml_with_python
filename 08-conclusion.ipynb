{
 "cells": [
  {
   "cell_type": "markdown",
   "metadata": {
    "hide_input": false
   },
   "source": [
    "# Ch08 全局总结\n",
    "\n",
    "## 8.1 处理机器学习问题\n",
    "\n",
    "1.  思考问题的类型\n",
    "2.  探索性分析，寻找数据中有趣的内容。\n",
    "3.  确定最终目标"
   ]
  },
  {
   "cell_type": "markdown",
   "metadata": {},
   "source": [
    "## 8.2 从原型到生产\n",
    "\n",
    "在大规模生产中创建并且维护机器学习软件需要做出的权衡。\n",
    "\"Machine Learning: The High Interest Credit Card of Technical Debt\""
   ]
  },
  {
   "cell_type": "markdown",
   "metadata": {},
   "source": [
    "## 8.3 测试生产系统\n",
    "\n",
    "-   离线评估 ( Offline Evaluation )\n",
    "-   在线测试 ( Online Testing ) 或者 实时测试 ( Live Testing )\n",
    "    -   A/B 测试。随机选择用户去测试新模型 A 和旧模型 B，运行一段时间后对比双方运行的效果。\n",
    "    -   Bandit 测试。比 A/B 测试更为复杂。\"Bandit Algorithms for Website Optimization\""
   ]
  },
  {
   "cell_type": "markdown",
   "metadata": {},
   "source": [
    "## 8.4 构建自己的估计器\n",
    "\n",
    "-   自己的估计器：从 BaseEstimator 和 TransformerMixin 类中继承。\n",
    "-   自己的分类器：从 ClassifierMixin 继承\n",
    "-   自己的回归器：从 RegressorMixin 继承"
   ]
  },
  {
   "cell_type": "code",
   "execution_count": 1,
   "metadata": {},
   "outputs": [],
   "source": [
    "from sklearn.base import BaseEstimator, TransformerMixin\n",
    "\n",
    "class MyTransformer(BaseEstimator, TransformerMixin):\n",
    "    def __init__(self, first_paramter=1, second_parameter=2):\n",
    "        # all parameters must be specified in the __init__ function\n",
    "        self.first_paramter = 1\n",
    "        self.second_parameter = 2\n",
    "        \n",
    "    def fit(self, X, y=None):\n",
    "        # fit should only take X and y as parameters\n",
    "        # even if your model is unsupervised, you need to accept a y argument!\n",
    "        \n",
    "        # Model fitting code goes here\n",
    "        print(\"fitting the model right here\")\n",
    "        # fit returns self\n",
    "        return self\n",
    "    \n",
    "    def transform(self, X):\n",
    "        # transform takes as parameter only X\n",
    "        \n",
    "        # apply some transformation to X:\n",
    "        X_transformed = X + 1\n",
    "        return X_transformed"
   ]
  },
  {
   "cell_type": "markdown",
   "metadata": {},
   "source": [
    "## 8.5 下一步\n",
    "\n",
    "### 8.5.1 理论\n",
    "\n",
    "-   概率论\n",
    "-   线性代数\n",
    "-   最优化\n",
    "-   《统计学习基础》\n",
    "-   《Machine Learning: An Algorithmic Perspective》\n",
    "-   《Pattern Recognition and Machine Learning》\n",
    "-   《Machine Learning: A Probabilistic Perspective》\n",
    "\n",
    "### 8.5.2 其他机器学习的框架和工具包\n",
    "\n",
    "-   scikit-learn：尝试与评估模型\n",
    "-   statsmodels：具有统计学意义的接口实现了多种线性模型\n",
    "-   vowpal wabbit：用 C++编写的调试优化的机器学习包，对于大型数据集和流数据特别有用\n",
    "-   mllib：基于 spark 分布式计算环境构建的 Scala 库，适用于集群上分布式运行的机器学习算法\n",
    "\n",
    "### 8.5.3 排序、推荐系统与其他学习类型\n",
    "\n",
    "-   排序问题 ( ranking ) ：对于特定查询，检索出按相关性排序的结果。\n",
    "-   推荐系统 ( Recommender System ) ：根据用户偏好向他们提供建议。\n",
    "\n",
    "### 8.5.4 概率建模、推断与概率编程\n",
    "\n",
    "-   概率模型：使用概率论的语言来表述需要预测的情况\n",
    "-   概率推断：对每种测量方法的信任程度，推断出最佳猜测\n",
    "-   概率编程语言\n",
    "    -   PyMC：\n",
    "    -   Stan"
   ]
  },
  {
   "cell_type": "markdown",
   "metadata": {},
   "source": [
    "### 8.5.5 神经网络\n",
    "\n",
    "深度学习"
   ]
  },
  {
   "cell_type": "markdown",
   "metadata": {},
   "source": [
    "### 8.5.6 推广到更大的数据集\n",
    "\n",
    "-   核外学习 ( Out-of-core Learning ) ：因为数据量过大，从无法全部导入到主存储器的数据中进行学习\n",
    "-   集群上的并行化 ( Parallelization Over a Cluster ) ：多台计算机分部处理数据"
   ]
  },
  {
   "cell_type": "markdown",
   "metadata": {},
   "source": [
    "### 8.5.7 磨练你的技术\n",
    "\n",
    "-   Kaggle：数据科学比赛\n",
    "-   OpenML：许多数据集和相关任务"
   ]
  },
  {
   "cell_type": "markdown",
   "metadata": {},
   "source": [
    "## 8.6 总结"
   ]
  }
 ],
 "metadata": {
  "anaconda-cloud": {},
  "kernelspec": {
   "display_name": "Python [conda env:root] *",
   "language": "python",
   "name": "conda-root-py"
  },
  "language_info": {
   "codemirror_mode": {
    "name": "ipython",
    "version": 3
   },
   "file_extension": ".py",
   "mimetype": "text/x-python",
   "name": "python",
   "nbconvert_exporter": "python",
   "pygments_lexer": "ipython3",
   "version": "3.7.6"
  },
  "toc-autonumbering": false
 },
 "nbformat": 4,
 "nbformat_minor": 4
}