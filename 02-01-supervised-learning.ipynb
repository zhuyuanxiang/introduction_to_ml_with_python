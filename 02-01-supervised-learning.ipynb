{
 "cells": [
  {
   "source": [
    "from preamble import *\n",
    "%matplotlib inline"
   ],
   "cell_type": "code",
   "metadata": {
    "hide_input": false
   },
   "execution_count": null,
   "outputs": []
  },
  {
   "cell_type": "markdown",
   "metadata": {},
   "source": [
    "## Ch02 有监督学习\n",
    "### 2.1 分类与回归\n",
    "\n",
    "有监督学习：\n",
    "\n",
    "-   分类 ( Classification ) ：目标是预测类别标签\n",
    "    -   二分类 ( Binary Classification ) ：在两个类别之间进行区分\n",
    "        -   正类 ( Positive Class )\n",
    "        -   反类 ( Negative Class )\n",
    "    -   多分类 ( Multiclass Classification ) ：在两个以上的类别之间进行区分\n",
    "-   回归 ( Regression ) ：目标是预测一个连续值。\n",
    "    -   编程术语叫做浮点数 ( Floatinig-point Number )\n",
    "    -   数学术语叫做实数 ( Real Number )"
   ]
  },
  {
   "cell_type": "markdown",
   "metadata": {},
   "source": [
    "### 2.2 泛化、过拟合与欠拟合\n",
    "\n",
    "如果一个模型能够对没有见过的数据做出精确的预测，就说这个模型能够从训练集泛化 ( Generalize ) 到测试集。\n",
    "因此，构建模型的目标是：泛化精度尽可能高。"
   ]
  },
  {
   "cell_type": "markdown",
   "metadata": {},
   "source": [
    "![model_complexity](images/overfitting_underfitting_cartoon.png)"
   ]
  },
  {
   "cell_type": "markdown",
   "metadata": {},
   "source": [
    "#### 模型复杂度与数据集大小的关系\n",
    "\n",
    "过拟合 ( Overfitting ) ：模型复杂，得到一个在训练集上表现良好，在测试集上表现较差的模型。即模型的泛化性能较差，说明模型过拟合。\n",
    "\n",
    "欠拟合 ( Underfitting ) ：模型简单，得到一个在训练集上表现较差的模型，说明模型欠拟合。"
   ]
  },
  {
   "source": [
    "[Scikit-Learn参考文档](https://scikit-learn.org/stable/user_guide.html)"
   ],
   "cell_type": "markdown",
   "metadata": {}
  }
 ],
 "metadata": {
  "kernelspec": {
   "display_name": "DataAnalysis",
   "language": "python",
   "name": "python3"
  },
  "language_info": {
   "codemirror_mode": {
    "name": "ipython",
    "version": 3
   },
   "file_extension": ".py",
   "mimetype": "text/x-python",
   "name": "python",
   "nbconvert_exporter": "python",
   "pygments_lexer": "ipython3",
   "version": "3.6.7-final"
  },
  "latex_metadata": {
   "author": "Andreas C. M\\\"ller",
   "title": "Machine Learning with Python"
  }
 },
 "nbformat": 4,
 "nbformat_minor": 4
}